{
 "cells": [
  {
   "cell_type": "code",
   "execution_count": null,
   "id": "9f66b018",
   "metadata": {},
   "outputs": [],
   "source": [
    "# 모듈 - 변수, 함수, 클래스가 모여있는 것\n",
    "\n",
    "# 간단한 함수 만들어서 모듈화 시켜보자"
   ]
  },
  {
   "cell_type": "code",
   "execution_count": null,
   "id": "744fdefe",
   "metadata": {},
   "outputs": [],
   "source": [
    "def addNum(num1, num2)\n",
    "    return num1 + num2"
   ]
  },
  {
   "cell_type": "code",
   "execution_count": 1,
   "id": "2664b69b",
   "metadata": {},
   "outputs": [
    {
     "name": "stderr",
     "output_type": "stream",
     "text": [
      "ERROR: Could not find a version that satisfies the requirement module_test (from versions: none)\n",
      "ERROR: No matching distribution found for module_test\n"
     ]
    }
   ],
   "source": [
    "# 모듈을 사용하기 위해서는\n",
    "\n",
    "# install - load\n",
    "\n",
    "# install 방법\n",
    "# 문법 - pip install 모듈명\n",
    "!pip install module_test"
   ]
  },
  {
   "cell_type": "code",
   "execution_count": 3,
   "id": "dcd47bb0",
   "metadata": {},
   "outputs": [
    {
     "ename": "ModuleNotFoundError",
     "evalue": "No module named 'module_test'",
     "output_type": "error",
     "traceback": [
      "\u001b[1;31m---------------------------------------------------------------------------\u001b[0m",
      "\u001b[1;31mModuleNotFoundError\u001b[0m                       Traceback (most recent call last)",
      "Cell \u001b[1;32mIn[3], line 2\u001b[0m\n\u001b[0;32m      1\u001b[0m \u001b[38;5;66;03m# load방법 import\u001b[39;00m\n\u001b[1;32m----> 2\u001b[0m \u001b[38;5;28;01mimport\u001b[39;00m \u001b[38;5;21;01mmodule_test\u001b[39;00m\n",
      "\u001b[1;31mModuleNotFoundError\u001b[0m: No module named 'module_test'"
     ]
    }
   ],
   "source": [
    "# load방법 import\n",
    "import module_test"
   ]
  },
  {
   "cell_type": "code",
   "execution_count": null,
   "id": "5d9ec30d",
   "metadata": {},
   "outputs": [],
   "source": [
    "# load방법 2번째\n",
    "# 어떤 모듈의 특정 함수만 쓰고 싶은경우\n",
    "# from 모듈명 import 함수(or 클래스명)"
   ]
  },
  {
   "cell_type": "code",
   "execution_count": 4,
   "id": "d85ee943",
   "metadata": {},
   "outputs": [
    {
     "ename": "NameError",
     "evalue": "name 'module_test' is not defined",
     "output_type": "error",
     "traceback": [
      "\u001b[1;31m---------------------------------------------------------------------------\u001b[0m",
      "\u001b[1;31mNameError\u001b[0m                                 Traceback (most recent call last)",
      "Cell \u001b[1;32mIn[4], line 1\u001b[0m\n\u001b[1;32m----> 1\u001b[0m module_test\u001b[38;5;241m.\u001b[39maddNum(\u001b[38;5;241m10\u001b[39m, \u001b[38;5;241m20\u001b[39m)\n",
      "\u001b[1;31mNameError\u001b[0m: name 'module_test' is not defined"
     ]
    }
   ],
   "source": [
    "module_test.addNum(10, 20)"
   ]
  },
  {
   "cell_type": "code",
   "execution_count": null,
   "id": "1ed3dccc",
   "metadata": {},
   "outputs": [],
   "source": []
  },
  {
   "cell_type": "code",
   "execution_count": null,
   "id": "9fe00ccc",
   "metadata": {},
   "outputs": [],
   "source": []
  },
  {
   "cell_type": "code",
   "execution_count": null,
   "id": "8c094ecf",
   "metadata": {},
   "outputs": [],
   "source": []
  },
  {
   "cell_type": "code",
   "execution_count": null,
   "id": "42edfc30",
   "metadata": {},
   "outputs": [],
   "source": []
  },
  {
   "cell_type": "code",
   "execution_count": null,
   "id": "053ef8d0",
   "metadata": {},
   "outputs": [],
   "source": []
  },
  {
   "cell_type": "code",
   "execution_count": null,
   "id": "d4827143",
   "metadata": {},
   "outputs": [],
   "source": []
  },
  {
   "cell_type": "code",
   "execution_count": null,
   "id": "a2763c9c",
   "metadata": {},
   "outputs": [],
   "source": []
  }
 ],
 "metadata": {
  "kernelspec": {
   "display_name": "Python 3 (ipykernel)",
   "language": "python",
   "name": "python3"
  },
  "language_info": {
   "codemirror_mode": {
    "name": "ipython",
    "version": 3
   },
   "file_extension": ".py",
   "mimetype": "text/x-python",
   "name": "python",
   "nbconvert_exporter": "python",
   "pygments_lexer": "ipython3",
   "version": "3.11.5"
  }
 },
 "nbformat": 4,
 "nbformat_minor": 5
}

{
 "cells": [
  {
   "cell_type": "code",
   "execution_count": 1,
   "id": "8ca1abdd",
   "metadata": {},
   "outputs": [],
   "source": [
    "# Numpy - 고성능 과학 계산, 배열연산 배열 생성\n",
    "\n",
    "#  ㄴ 숫자\n",
    "# 배열이란?????????\n",
    "# 리스트 - 다양한 자료형을 나열 자료형, 인덱스로 접근\n",
    "\n",
    "# 배열 - 하나의 자료형을 나열하는 자료형, 인덱스로 접근 (int, float, str)"
   ]
  },
  {
   "cell_type": "code",
   "execution_count": 2,
   "id": "f962ea55",
   "metadata": {},
   "outputs": [],
   "source": [
    "# numpy 사용 방법\n",
    "import numpy as np"
   ]
  },
  {
   "cell_type": "code",
   "execution_count": 3,
   "id": "f00e1cc8",
   "metadata": {},
   "outputs": [
    {
     "data": {
      "text/plain": [
       "array([1, 2, 3, 4, 5])"
      ]
     },
     "execution_count": 3,
     "metadata": {},
     "output_type": "execute_result"
    }
   ],
   "source": [
    "# 1차원 배열 생성하기\n",
    "\n",
    "# 배열 == array\n",
    "arr = np.array([1,2,3,4,5])\n",
    "arr"
   ]
  },
  {
   "cell_type": "code",
   "execution_count": 4,
   "id": "a644bb38",
   "metadata": {},
   "outputs": [
    {
     "data": {
      "text/plain": [
       "array([10, 20, 30, 40, 50])"
      ]
     },
     "execution_count": 4,
     "metadata": {},
     "output_type": "execute_result"
    }
   ],
   "source": [
    "list1 = [10,20,30,40,50]\n",
    "arr2 = np.array(list1)\n",
    "arr2"
   ]
  },
  {
   "cell_type": "code",
   "execution_count": 5,
   "id": "da95e8ae",
   "metadata": {},
   "outputs": [
    {
     "data": {
      "text/plain": [
       "array([[ 1,  2,  3],\n",
       "       [10, 20, 30]])"
      ]
     },
     "execution_count": 5,
     "metadata": {},
     "output_type": "execute_result"
    }
   ],
   "source": [
    "# 2차원 배열 생성\n",
    "arr3 = np.array([[1,2,3], [10,20,30]])\n",
    "arr3"
   ]
  },
  {
   "cell_type": "code",
   "execution_count": 7,
   "id": "3236c764",
   "metadata": {},
   "outputs": [
    {
     "name": "stdout",
     "output_type": "stream",
     "text": [
      "2\n",
      "3\n"
     ]
    }
   ],
   "source": [
    "# 배열의 속성을 확인해봅시다!\n",
    "\n",
    "# 1. 배열의 크기 - 다차원배열의 크기를 알아내는데 유용\n",
    "#               ㄴ 배열명.shape\n",
    "\n",
    "# 튜플로 return이 됨\n",
    "arr3.shape # 행, 열로 출력\n",
    "\n",
    "# 행만 출력\n",
    "print(arr3.shape[0])\n",
    "\n",
    "# 열만 출력\n",
    "print(arr3.shape[1])"
   ]
  },
  {
   "cell_type": "code",
   "execution_count": 8,
   "id": "a07b0a2e",
   "metadata": {},
   "outputs": [
    {
     "name": "stdout",
     "output_type": "stream",
     "text": [
      "1\n",
      "2\n"
     ]
    }
   ],
   "source": [
    "# 2. 차원수 - 해당 배열이 몇 차원이 알려주는 속성\n",
    "#           ㄴ 배열명.ndim\n",
    "print(arr2.ndim)\n",
    "print(arr3.ndim)"
   ]
  },
  {
   "cell_type": "code",
   "execution_count": 9,
   "id": "ca17a551",
   "metadata": {},
   "outputs": [
    {
     "name": "stdout",
     "output_type": "stream",
     "text": [
      "5\n",
      "6\n"
     ]
    }
   ],
   "source": [
    "# 3. 전체 요소개수 - 해당 배열의 값들의 수를 알려주는 속성\n",
    "#                  ㄴ .size\n",
    "print(arr2.size)\n",
    "print(arr3.size)"
   ]
  },
  {
   "cell_type": "code",
   "execution_count": null,
   "id": "b450759b",
   "metadata": {},
   "outputs": [],
   "source": [
    "# 4. 데이터 타입 - 요소의 타입을 알려주는 솟ㄱ성\n",
    "#                 ㄴ .dtype"
   ]
  },
  {
   "cell_type": "code",
   "execution_count": null,
   "id": "84220f7c",
   "metadata": {},
   "outputs": [],
   "source": []
  },
  {
   "cell_type": "code",
   "execution_count": null,
   "id": "b74b0d68",
   "metadata": {},
   "outputs": [],
   "source": []
  }
 ],
 "metadata": {
  "kernelspec": {
   "display_name": "Python 3 (ipykernel)",
   "language": "python",
   "name": "python3"
  },
  "language_info": {
   "codemirror_mode": {
    "name": "ipython",
    "version": 3
   },
   "file_extension": ".py",
   "mimetype": "text/x-python",
   "name": "python",
   "nbconvert_exporter": "python",
   "pygments_lexer": "ipython3",
   "version": "3.11.5"
  }
 },
 "nbformat": 4,
 "nbformat_minor": 5
}

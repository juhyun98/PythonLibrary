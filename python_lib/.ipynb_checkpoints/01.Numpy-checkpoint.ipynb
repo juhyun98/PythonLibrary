{
 "cells": [
  {
   "cell_type": "code",
   "execution_count": 1,
   "id": "4e12e888",
   "metadata": {},
   "outputs": [],
   "source": [
    "# Numpy - 고성능 과학 계산, 배열연산 배열 생성\n",
    "\n",
    "#  ㄴ 숫자\n",
    "# 배열이란?????????\n",
    "# 리스트 - 다양한 자료형을 나열 자료형, 인덱스로 접근\n",
    "\n",
    "# 배열 - 하나의 자료형을 나열하는 자료형, 인덱스로 접근 (int, float, str)"
   ]
  },
  {
   "cell_type": "code",
   "execution_count": 2,
   "id": "0a1cc16f",
   "metadata": {},
   "outputs": [],
   "source": [
    "# numpy 사용 방법\n",
    "import numpy as np"
   ]
  },
  {
   "cell_type": "code",
   "execution_count": 3,
   "id": "ae68983e",
   "metadata": {},
   "outputs": [
    {
     "data": {
      "text/plain": [
       "array([1, 2, 3, 4, 5])"
      ]
     },
     "execution_count": 3,
     "metadata": {},
     "output_type": "execute_result"
    }
   ],
   "source": [
    "# 1차원 배열 생성하기\n",
    "\n",
    "# 배열 == array\n",
    "arr = np.array([1,2,3,4,5])\n",
    "arr"
   ]
  },
  {
   "cell_type": "code",
   "execution_count": 4,
   "id": "c073ee5b",
   "metadata": {},
   "outputs": [
    {
     "data": {
      "text/plain": [
       "array([10, 20, 30, 40, 50])"
      ]
     },
     "execution_count": 4,
     "metadata": {},
     "output_type": "execute_result"
    }
   ],
   "source": [
    "list1 = [10,20,30,40,50]\n",
    "arr2 = np.array(list1)\n",
    "arr2"
   ]
  },
  {
   "cell_type": "code",
   "execution_count": 5,
   "id": "05d1c777",
   "metadata": {},
   "outputs": [
    {
     "data": {
      "text/plain": [
       "array([[ 1,  2,  3],\n",
       "       [10, 20, 30]])"
      ]
     },
     "execution_count": 5,
     "metadata": {},
     "output_type": "execute_result"
    }
   ],
   "source": [
    "# 2차원 배열 생성\n",
    "arr3 = np.array([[1,2,3], [10,20,30]])\n",
    "arr3"
   ]
  },
  {
   "cell_type": "code",
   "execution_count": 6,
   "id": "279acd39",
   "metadata": {},
   "outputs": [
    {
     "name": "stdout",
     "output_type": "stream",
     "text": [
      "2\n",
      "3\n"
     ]
    }
   ],
   "source": [
    "# 배열의 속성을 확인해봅시다!\n",
    "\n",
    "# 1. 배열의 크기 - 다차원배열의 크기를 알아내는데 유용\n",
    "#               ㄴ 배열명.shape\n",
    "\n",
    "# 튜플로 return이 됨\n",
    "arr3.shape # 행, 열로 출력\n",
    "\n",
    "# 행만 출력\n",
    "print(arr3.shape[0])\n",
    "\n",
    "# 열만 출력\n",
    "print(arr3.shape[1])"
   ]
  },
  {
   "cell_type": "code",
   "execution_count": 7,
   "id": "13edf9d0",
   "metadata": {},
   "outputs": [
    {
     "name": "stdout",
     "output_type": "stream",
     "text": [
      "1\n",
      "2\n"
     ]
    }
   ],
   "source": [
    "# 2. 차원수 - 해당 배열이 몇 차원이 알려주는 속성\n",
    "#           ㄴ 배열명.ndim\n",
    "print(arr2.ndim)\n",
    "print(arr3.ndim)"
   ]
  },
  {
   "cell_type": "code",
   "execution_count": 8,
   "id": "d823549d",
   "metadata": {},
   "outputs": [
    {
     "name": "stdout",
     "output_type": "stream",
     "text": [
      "5\n",
      "6\n"
     ]
    }
   ],
   "source": [
    "# 3. 전체 요소개수 - 해당 배열의 값들의 수를 알려주는 속성\n",
    "#                  ㄴ .size\n",
    "print(arr2.size)\n",
    "print(arr3.size)"
   ]
  },
  {
   "cell_type": "code",
   "execution_count": 9,
   "id": "691be042",
   "metadata": {},
   "outputs": [],
   "source": [
    "# 4. 데이터 타입 - 요소의 타입을 알려주는 솟ㄱ성\n",
    "#                 ㄴ .dtype"
   ]
  },
  {
   "cell_type": "code",
   "execution_count": 10,
   "id": "3656ae38",
   "metadata": {},
   "outputs": [],
   "source": [
    "# 배열 함수들 알아보기"
   ]
  },
  {
   "cell_type": "code",
   "execution_count": 11,
   "id": "ca42fdeb",
   "metadata": {},
   "outputs": [
    {
     "ename": "NameError",
     "evalue": "name 'arr_zero' is not defined",
     "output_type": "error",
     "traceback": [
      "\u001b[1;31m---------------------------------------------------------------------------\u001b[0m",
      "\u001b[1;31mNameError\u001b[0m                                 Traceback (most recent call last)",
      "Cell \u001b[1;32mIn[11], line 3\u001b[0m\n\u001b[0;32m      1\u001b[0m \u001b[38;5;66;03m# 1. 0으로 초기화 하는 함수\u001b[39;00m\n\u001b[0;32m      2\u001b[0m \u001b[38;5;66;03m# .zeros((행,열))\u001b[39;00m\n\u001b[1;32m----> 3\u001b[0m arr_zero\n",
      "\u001b[1;31mNameError\u001b[0m: name 'arr_zero' is not defined"
     ]
    }
   ],
   "source": [
    "# 1. 0으로 초기화 하는 함수\n",
    "# .zeros((행,열))\n",
    "arr_zero"
   ]
  },
  {
   "cell_type": "code",
   "execution_count": 12,
   "id": "b9615991",
   "metadata": {},
   "outputs": [
    {
     "data": {
      "text/plain": [
       "array([[1., 1., 1., 1.],\n",
       "       [1., 1., 1., 1.],\n",
       "       [1., 1., 1., 1.]])"
      ]
     },
     "execution_count": 12,
     "metadata": {},
     "output_type": "execute_result"
    }
   ],
   "source": [
    "# 2. 1로 초기화 하는 함수\n",
    "# .ones((행, 열))\n",
    "arr_one = np.ones((3,4))\n",
    "arr_one"
   ]
  },
  {
   "cell_type": "code",
   "execution_count": 13,
   "id": "b1506da0",
   "metadata": {},
   "outputs": [
    {
     "data": {
      "text/plain": [
       "array([[7, 7, 7, 7],\n",
       "       [7, 7, 7, 7],\n",
       "       [7, 7, 7, 7]])"
      ]
     },
     "execution_count": 13,
     "metadata": {},
     "output_type": "execute_result"
    }
   ],
   "source": [
    "# 3. 그 외 수로 초기화 하는 함수\n",
    "# .full((행, 열), 초기화 할 값)\n",
    "arr_full = np.full((3,4), 7)\n",
    "arr_full"
   ]
  },
  {
   "cell_type": "code",
   "execution_count": 14,
   "id": "a995ac24",
   "metadata": {},
   "outputs": [
    {
     "data": {
      "text/plain": [
       "array([ 1,  2,  3,  4,  5,  6,  7,  8,  9, 10, 11, 12, 13, 14, 15, 16, 17,\n",
       "       18, 19, 20, 21, 22, 23, 24, 25, 26, 27, 28, 29, 30, 31, 32, 33, 34,\n",
       "       35, 36, 37, 38, 39, 40, 41, 42, 43, 44, 45, 46, 47, 48, 49, 50])"
      ]
     },
     "execution_count": 14,
     "metadata": {},
     "output_type": "execute_result"
    }
   ],
   "source": [
    "# 4. 연속 값으로 초기화 하는 함수 - 1차원 배열\n",
    "# .arange(시작 값, 끝 값) - 끝 값은 미만\n",
    "arr_arange = np.arange(1, 51)\n",
    "arr_arange"
   ]
  },
  {
   "cell_type": "code",
   "execution_count": 15,
   "id": "01d36e23",
   "metadata": {},
   "outputs": [
    {
     "data": {
      "text/plain": [
       "array([ 1, 11, 21, 31, 41])"
      ]
     },
     "execution_count": 15,
     "metadata": {},
     "output_type": "execute_result"
    }
   ],
   "source": [
    "# 4. 1 연속 값으로 초기화 하는 함수 - step이 있기!\n",
    "arr_arange2 = np.arange(1,51, 10)\n",
    "arr_arange2"
   ]
  },
  {
   "cell_type": "code",
   "execution_count": 16,
   "id": "66bb03fd",
   "metadata": {},
   "outputs": [
    {
     "name": "stdout",
     "output_type": "stream",
     "text": [
      "[1, 2, 3, 4, 5, 6, 7, 8, 9, 10, 11, 12, 13, 14, 15, 16, 17, 18, 19, 20, 21, 22, 23, 24, 25, 26, 27, 28, 29, 30, 31, 32, 33, 34, 35, 36, 37, 38, 39, 40, 41, 42, 43, 44, 45, 46, 47, 48, 49, 50]\n"
     ]
    }
   ],
   "source": [
    "list2 = []\n",
    "for i in range(1,51):\n",
    "    list2.append(i)\n",
    "print(list2)"
   ]
  },
  {
   "cell_type": "markdown",
   "id": "e0102197",
   "metadata": {},
   "source": [
    "## numpy 인덱싱, 슬라이싱 - 데이터 접근 및 처리"
   ]
  },
  {
   "cell_type": "code",
   "execution_count": 17,
   "id": "0a2350d9",
   "metadata": {},
   "outputs": [
    {
     "data": {
      "text/plain": [
       "array([10, 20, 30, 40, 50, 60])"
      ]
     },
     "execution_count": 17,
     "metadata": {},
     "output_type": "execute_result"
    }
   ],
   "source": [
    "# 1차원 배열 만들기\n",
    "arr4 = np.array([10,20,30,40,50,60])\n",
    "arr4"
   ]
  },
  {
   "cell_type": "code",
   "execution_count": 18,
   "id": "5bccfc88",
   "metadata": {},
   "outputs": [
    {
     "name": "stdout",
     "output_type": "stream",
     "text": [
      "40\n",
      "[10 50]\n"
     ]
    }
   ],
   "source": [
    "# 인덱싱\n",
    "# 리스트의 인덱싱 - list명[인덱스 숫자]\n",
    "# 넘파이의 배열도 동일\n",
    "# 인덱싱 방법 --> []\n",
    "\n",
    "print(arr4[3])\n",
    "\n",
    "# 한번에 여러요소를 접근하는 경우 대괄호 한번 더 씌워주기\n",
    "print(arr4[[0,4]])"
   ]
  },
  {
   "cell_type": "markdown",
   "id": "d1a2dd8c",
   "metadata": {},
   "source": [
    "#### 1차원 슬라이싱"
   ]
  },
  {
   "cell_type": "code",
   "execution_count": 19,
   "id": "c15a0ea9",
   "metadata": {},
   "outputs": [
    {
     "name": "stdout",
     "output_type": "stream",
     "text": [
      "[20 30 40 50]\n",
      "[10 20 30 40 50]\n",
      "[30 40 50 60]\n",
      "[10 20 30 40 50 60]\n"
     ]
    }
   ],
   "source": [
    "# 리스트 슬라이싱 - [:]\n",
    "# 배열도 동일\n",
    "print(arr4[1:5])\n",
    "print(arr4[:5])\n",
    "print(arr4[2:])\n",
    "print(arr4[:])"
   ]
  },
  {
   "cell_type": "markdown",
   "id": "4edcec5f",
   "metadata": {},
   "source": [
    "### 2차원 인덱싱"
   ]
  },
  {
   "cell_type": "code",
   "execution_count": 20,
   "id": "cb8aa8eb",
   "metadata": {},
   "outputs": [
    {
     "data": {
      "text/plain": [
       "array([[10, 20, 30],\n",
       "       [40, 50, 60]])"
      ]
     },
     "execution_count": 20,
     "metadata": {},
     "output_type": "execute_result"
    }
   ],
   "source": [
    "# 1차원 배열을 2차원 배열로 만들어주는 함수\n",
    "# .reshape(행, 열)\n",
    "arr5 = arr4.reshape(2,3)\n",
    "arr5"
   ]
  },
  {
   "cell_type": "code",
   "execution_count": 21,
   "id": "82f1047f",
   "metadata": {},
   "outputs": [
    {
     "name": "stdout",
     "output_type": "stream",
     "text": [
      "[10 20 30]\n",
      "20\n",
      "20\n"
     ]
    }
   ],
   "source": [
    "print(arr5[0]) # 10, 20, 30\n",
    "print(arr5[0][1])\n",
    "\n",
    "# 2차원 배열 데이터 접근 하는 방법 1가지 더 존재\n",
    "# [행, 열] - ,(comma) 기준 앞이 행 뒤가 열\n",
    "print(arr5[0,1])"
   ]
  },
  {
   "cell_type": "markdown",
   "id": "c419975c",
   "metadata": {},
   "source": [
    "##### 2차원 슬라이싱"
   ]
  },
  {
   "cell_type": "code",
   "execution_count": 22,
   "id": "c0808b79",
   "metadata": {},
   "outputs": [
    {
     "data": {
      "text/plain": [
       "array([10, 20, 30])"
      ]
     },
     "execution_count": 22,
     "metadata": {},
     "output_type": "execute_result"
    }
   ],
   "source": [
    "arr5[0,:] # , 기준 앞은 행 뒤는 열\n",
    "# 행은 0번째 (인덱싱), 열은 슬라이싱으로 전부 출력"
   ]
  },
  {
   "cell_type": "code",
   "execution_count": 23,
   "id": "23e8a4f6",
   "metadata": {},
   "outputs": [
    {
     "name": "stdout",
     "output_type": "stream",
     "text": [
      "[20 30]\n",
      "[40 50]\n",
      "[[10 20]\n",
      " [40 50]]\n"
     ]
    }
   ],
   "source": [
    "# 20, 30만 출력하고 싶다!\n",
    "print(arr5[0,1:])\n",
    "\n",
    "# 40, 50만 출력하고 싶다\n",
    "print(arr5[1,:2])\n",
    "\n",
    "# 10, 20, 40, 50\n",
    "print(arr5[0:2, 0:2])"
   ]
  },
  {
   "cell_type": "code",
   "execution_count": 24,
   "id": "aab84ae4",
   "metadata": {},
   "outputs": [
    {
     "data": {
      "text/plain": [
       "array([[10, 30],\n",
       "       [40, 60]])"
      ]
     },
     "execution_count": 24,
     "metadata": {},
     "output_type": "execute_result"
    }
   ],
   "source": [
    "arr5[:,[0,2]]"
   ]
  },
  {
   "cell_type": "code",
   "execution_count": 25,
   "id": "b10fa1e7",
   "metadata": {},
   "outputs": [
    {
     "data": {
      "text/plain": [
       "array([[10, 30],\n",
       "       [40, 60]])"
      ]
     },
     "execution_count": 25,
     "metadata": {},
     "output_type": "execute_result"
    }
   ],
   "source": [
    "arr5[:,::2] # [:,::step] step작성"
   ]
  },
  {
   "cell_type": "code",
   "execution_count": 26,
   "id": "33983bb4",
   "metadata": {},
   "outputs": [
    {
     "name": "stdout",
     "output_type": "stream",
     "text": [
      "[[100 100 100]\n",
      " [ 40  50  60]]\n",
      "[[10 20 30]\n",
      " [40 50 60]]\n"
     ]
    }
   ],
   "source": [
    "# 데이터 수정\n",
    "# 수정하고 싶은 위치 접근 후 대입 -- 인덱싱(슬라이싱) 한 후 = 원하는 변수\n",
    "# arr5의 0행에 있는 데이터를 모두 100으로 수정\n",
    "arr5[0] = 100\n",
    "# arr5[0] == arr5[0,:]\n",
    "print(arr5)\n",
    "\n",
    "arr5[0,:] = [10,20,30]\n",
    "print(arr5)"
   ]
  },
  {
   "cell_type": "code",
   "execution_count": 27,
   "id": "6ee67a98",
   "metadata": {},
   "outputs": [
    {
     "data": {
      "text/plain": [
       "array([10, 20, 30, 40, 50, 60, 30])"
      ]
     },
     "execution_count": 27,
     "metadata": {},
     "output_type": "execute_result"
    }
   ],
   "source": [
    "# 데이터 추가\n",
    "# list의 경우 append와 insert\n",
    "# append(추가할 array, 추가 할 값) - 맨끝에 추가\n",
    "arr6 = np.append(arr5, 30)\n",
    "arr6"
   ]
  },
  {
   "cell_type": "code",
   "execution_count": 28,
   "id": "a763a930",
   "metadata": {},
   "outputs": [
    {
     "name": "stdout",
     "output_type": "stream",
     "text": [
      "[1, 2, 3, 4, 5, 10, 20, 30, 40, 50]\n"
     ]
    }
   ],
   "source": [
    "# 데이터 병합\n",
    "# concatenate ([합할 배열])\n",
    "list1 = [1,2,3,4,5]\n",
    "list2 = [10,20,30,40,50]\n",
    "print(list1 + list2) # 리스트의 경우 더할 시 데이터가 병합의 느낌"
   ]
  },
  {
   "cell_type": "code",
   "execution_count": 29,
   "id": "17602dfa",
   "metadata": {},
   "outputs": [
    {
     "data": {
      "text/plain": [
       "array([ 1,  2,  3,  4,  5, 10, 20, 30, 40, 50])"
      ]
     },
     "execution_count": 29,
     "metadata": {},
     "output_type": "execute_result"
    }
   ],
   "source": [
    "arr7 = np.array([1,2,3,4,5])\n",
    "arr8 = np.array([10,20,30,40,50])\n",
    "\n",
    "arr_concat = np.concatenate([arr7, arr8])\n",
    "arr_concat"
   ]
  },
  {
   "cell_type": "markdown",
   "id": "03129da4",
   "metadata": {},
   "source": [
    "### 조건에 맞는 데이터 접근하기\n",
    "\n",
    "##### 불리언 인덱싱"
   ]
  },
  {
   "cell_type": "code",
   "execution_count": 30,
   "id": "37e649f1",
   "metadata": {},
   "outputs": [
    {
     "name": "stdout",
     "output_type": "stream",
     "text": [
      "[False False  True  True False False False False False  True]\n",
      "[0 1 2 3 4 5 6 7 8 9]\n"
     ]
    },
    {
     "data": {
      "text/plain": [
       "array([2, 3, 9])"
      ]
     },
     "execution_count": 30,
     "metadata": {},
     "output_type": "execute_result"
    }
   ],
   "source": [
    "bool_arr = [True, False]\n",
    "\n",
    "# numpy에 있는 random함수\n",
    "np.random.seed(1) #\n",
    "bool_arr1 = np.random.choice(bool_arr, size = 10)\n",
    "# True, False 의 값을 랜덤으로 10개 만들겠습니다\n",
    "print(bool_arr1)\n",
    "\n",
    "temp_arr = np.arange(10)\n",
    "print(temp_arr)\n",
    "\n",
    "# temp_arr 불리언 인덱싱\n",
    "# 불리언 인덱싱 - True인 값들 만 출력\n",
    "# 불리언 인덱싱 - True, False가 담긴 array를 인덱싱\n",
    "temp_arr[bool_arr1]"
   ]
  },
  {
   "cell_type": "code",
   "execution_count": 31,
   "id": "c7f6f0a0",
   "metadata": {},
   "outputs": [
    {
     "data": {
      "text/plain": [
       "array([97, 54, 75, 53, 69, 73, 89, 78, 64, 73, 58, 75, 96, 92, 76, 58, 89,\n",
       "       88, 54, 98])"
      ]
     },
     "metadata": {},
     "output_type": "display_data"
    },
    {
     "data": {
      "text/plain": [
       "array([ 1,  2,  3,  4,  5,  6,  7,  8,  9, 10, 11, 12, 13, 14, 15, 16, 17,\n",
       "       18, 19, 20])"
      ]
     },
     "metadata": {},
     "output_type": "display_data"
    }
   ],
   "source": [
    "# 작성한 조건으로 불리언 인덱싱\n",
    "\n",
    "# 성적데이터를 랜덤으로 생성\n",
    "np.random.seed(7)\n",
    "score_arr = np.random.randint(50, 100, size = 20)\n",
    "display(score_arr)\n",
    "student_arr = np.arange(1, 21)\n",
    "display(student_arr)"
   ]
  },
  {
   "cell_type": "code",
   "execution_count": 32,
   "id": "ebddeab7",
   "metadata": {},
   "outputs": [
    {
     "data": {
      "text/plain": [
       "array([97, 89, 96, 92, 89, 88, 98])"
      ]
     },
     "execution_count": 32,
     "metadata": {},
     "output_type": "execute_result"
    }
   ],
   "source": [
    "# 논리연산자 사용해서 80점 이상인 학생들만 출력\n",
    "# <, >, ==, and, or, not, in\n",
    "score_arr[score_arr > 80]"
   ]
  },
  {
   "cell_type": "code",
   "execution_count": 33,
   "id": "4678fb98",
   "metadata": {},
   "outputs": [
    {
     "data": {
      "text/plain": [
       "7"
      ]
     },
     "execution_count": 33,
     "metadata": {},
     "output_type": "execute_result"
    }
   ],
   "source": [
    "score_arr[score_arr > 80].size"
   ]
  },
  {
   "cell_type": "code",
   "execution_count": 34,
   "id": "56c5af6b",
   "metadata": {},
   "outputs": [
    {
     "data": {
      "text/plain": [
       "array([ 1,  3,  5,  6,  7,  8,  9, 10, 12, 13, 14, 15, 17, 18, 20])"
      ]
     },
     "execution_count": 34,
     "metadata": {},
     "output_type": "execute_result"
    }
   ],
   "source": [
    "# 성적이 60점 이상인 학생들을 출력\n",
    "student_arr[score_arr >= 60]"
   ]
  },
  {
   "cell_type": "markdown",
   "id": "83f4ba3d",
   "metadata": {},
   "source": [
    "## 배열의 연산"
   ]
  },
  {
   "cell_type": "code",
   "execution_count": 35,
   "id": "e161955e",
   "metadata": {},
   "outputs": [
    {
     "data": {
      "text/plain": [
       "array([1, 2, 3, 4, 5])"
      ]
     },
     "metadata": {},
     "output_type": "display_data"
    },
    {
     "data": {
      "text/plain": [
       "array([11, 12, 13, 14, 15])"
      ]
     },
     "metadata": {},
     "output_type": "display_data"
    }
   ],
   "source": [
    "arr10 = np.array([1,2,3,4,5])\n",
    "display(arr10)\n",
    "\n",
    "# 연산\n",
    "arr10 = arr10 + 10\n",
    "display(arr10)"
   ]
  },
  {
   "cell_type": "code",
   "execution_count": 36,
   "id": "5ca65330",
   "metadata": {},
   "outputs": [
    {
     "data": {
      "text/plain": [
       "array([11, 22, 33, 44, 55])"
      ]
     },
     "metadata": {},
     "output_type": "display_data"
    }
   ],
   "source": [
    "arr11 = np.array([1,2,3,4,5])\n",
    "arr12 = np.array([10,20,30,40,50])\n",
    "\n",
    "display(arr11 + arr12)"
   ]
  },
  {
   "cell_type": "code",
   "execution_count": 46,
   "id": "f71ea118",
   "metadata": {},
   "outputs": [],
   "source": [
    "# 파일 불러오기 # 경로 잘 찾아가기\n",
    "# delimiter = '구분자'\n",
    "height_weight_data = np.loadtxt('data/height_weight.txt', delimiter=',')\n",
    "data = height_weight_data"
   ]
  },
  {
   "cell_type": "code",
   "execution_count": 39,
   "id": "b9a52e88",
   "metadata": {},
   "outputs": [
    {
     "name": "stdout",
     "output_type": "stream",
     "text": [
      "(2, 10)\n",
      "2\n"
     ]
    }
   ],
   "source": [
    "# 데이터의 정보 확인\n",
    "print(height_weight_data.shape) # 2. 10데이터 (0행 - 키, 1행 - 몸무게)\n",
    "\n",
    "print(height_weight_data.ndim)"
   ]
  },
  {
   "cell_type": "code",
   "execution_count": 52,
   "id": "ac524f4d",
   "metadata": {},
   "outputs": [
    {
     "data": {
      "text/plain": [
       "array([21.37153104, 27.07018468, 25.86122449, 24.20652885, 16.03543423,\n",
       "       20.14486193, 23.14392095, 21.69720651, 23.62028791, 25.59220998])"
      ]
     },
     "execution_count": 52,
     "metadata": {},
     "output_type": "execute_result"
    }
   ],
   "source": [
    "height = data[0]\n",
    "weight = data[1]\n",
    "\n",
    "\n",
    "bmi = (weight / (height/100 * height/100))\n",
    "bmi"
   ]
  },
  {
   "cell_type": "code",
   "execution_count": 58,
   "id": "dccba862",
   "metadata": {},
   "outputs": [
    {
     "data": {
      "text/plain": [
       "array([27.07018468, 25.86122449, 24.20652885, 23.14392095, 23.62028791,\n",
       "       25.59220998])"
      ]
     },
     "execution_count": 58,
     "metadata": {},
     "output_type": "execute_result"
    }
   ],
   "source": [
    "bool = (bmi > 23)\n",
    "bmi[bool]"
   ]
  },
  {
   "cell_type": "code",
   "execution_count": null,
   "id": "1a0f7b3b",
   "metadata": {},
   "outputs": [],
   "source": []
  },
  {
   "cell_type": "code",
   "execution_count": null,
   "id": "6db35264",
   "metadata": {},
   "outputs": [],
   "source": []
  },
  {
   "cell_type": "code",
   "execution_count": null,
   "id": "b09a97cb",
   "metadata": {},
   "outputs": [],
   "source": []
  },
  {
   "cell_type": "code",
   "execution_count": null,
   "id": "28d250b2",
   "metadata": {},
   "outputs": [],
   "source": []
  },
  {
   "cell_type": "code",
   "execution_count": null,
   "id": "8633bbbe",
   "metadata": {},
   "outputs": [],
   "source": []
  }
 ],
 "metadata": {
  "kernelspec": {
   "display_name": "Python 3 (ipykernel)",
   "language": "python",
   "name": "python3"
  },
  "language_info": {
   "codemirror_mode": {
    "name": "ipython",
    "version": 3
   },
   "file_extension": ".py",
   "mimetype": "text/x-python",
   "name": "python",
   "nbconvert_exporter": "python",
   "pygments_lexer": "ipython3",
   "version": "3.11.5"
  }
 },
 "nbformat": 4,
 "nbformat_minor": 5
}

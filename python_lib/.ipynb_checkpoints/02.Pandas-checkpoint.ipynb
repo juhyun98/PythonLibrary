{
 "cells": [
  {
   "cell_type": "code",
   "execution_count": null,
   "id": "a6c405fe",
   "metadata": {},
   "outputs": [],
   "source": []
  },
  {
   "cell_type": "markdown",
   "id": "6c6cefc3",
   "metadata": {},
   "source": [
    "# 주요 특성\n",
    "- 인덱싱을 활용하여 데이터 조작이 가능 한 DataFrame 객체가 존재\n",
    "- 데이터간 읽기, 쓰기 기능 지원\n",
    "- 결측치 정렬, 처리\n",
    "- 데이터 컬럼을 추가 삭제\n",
    "- 데이터셋의 분할, 병합을 지원"
   ]
  },
  {
   "cell_type": "markdown",
   "id": "76be2bcd",
   "metadata": {},
   "source": [
    "# Dataframe은 여러개의 Series로 이루어져 있습니다!"
   ]
  },
  {
   "cell_type": "markdown",
   "id": "77650945",
   "metadata": {},
   "source": [
    "### Series"
   ]
  },
  {
   "cell_type": "code",
   "execution_count": null,
   "id": "e762414f",
   "metadata": {},
   "outputs": [],
   "source": [
    "# 여러 값을 나열한 자료구조\n",
    "# index - value\n",
    "# dataframe 구성하는 하위요소 ----> 여러개의 Series는 DataFrame이 됨"
   ]
  },
  {
   "cell_type": "code",
   "execution_count": 2,
   "id": "5bbdf27b",
   "metadata": {},
   "outputs": [],
   "source": [
    "import pandas as pd"
   ]
  },
  {
   "cell_type": "code",
   "execution_count": 2,
   "id": "aa73e341",
   "metadata": {},
   "outputs": [
    {
     "data": {
      "text/plain": [
       "0    1\n",
       "1    2\n",
       "2    3\n",
       "3    4\n",
       "4    5\n",
       "dtype: int64"
      ]
     },
     "execution_count": 2,
     "metadata": {},
     "output_type": "execute_result"
    }
   ],
   "source": [
    "# 값을 가진 series 만들기\n",
    "\n",
    "num_series = pd.Series([1, 2, 3, 4, 5])\n",
    "num_series\n",
    "\n",
    "# 인덱스 미 작성시 0~데이터 수만큼 자동생성"
   ]
  },
  {
   "cell_type": "code",
   "execution_count": 3,
   "id": "eef3df9e",
   "metadata": {},
   "outputs": [
    {
     "data": {
      "text/plain": [
       "kim     10\n",
       "lee     20\n",
       "park    30\n",
       "dtype: int64"
      ]
     },
     "execution_count": 3,
     "metadata": {},
     "output_type": "execute_result"
    }
   ],
   "source": [
    "# 인덱스를 지정한 series 만들기\n",
    "\n",
    "num_series2 = pd.Series([10,20,30], index = ['kim', 'lee', 'park'])\n",
    "num_series2"
   ]
  },
  {
   "cell_type": "code",
   "execution_count": 4,
   "id": "a89fb939",
   "metadata": {},
   "outputs": [
    {
     "data": {
      "text/plain": [
       "kim     10\n",
       "lee     20\n",
       "park    30\n",
       "dtype: int64"
      ]
     },
     "execution_count": 4,
     "metadata": {},
     "output_type": "execute_result"
    }
   ],
   "source": [
    "\n",
    "num_series3 = pd.Series({'kim' : 10, 'lee' : 20, 'park' : 30})\n",
    "num_series3"
   ]
  },
  {
   "cell_type": "code",
   "execution_count": 5,
   "id": "e611e035",
   "metadata": {},
   "outputs": [
    {
     "data": {
      "text/plain": [
       "array([10, 20, 30], dtype=int64)"
      ]
     },
     "execution_count": 5,
     "metadata": {},
     "output_type": "execute_result"
    }
   ],
   "source": [
    "# value 값 확인\n",
    "# .value\n",
    "num_series3.values"
   ]
  },
  {
   "cell_type": "code",
   "execution_count": 6,
   "id": "9e56f695",
   "metadata": {},
   "outputs": [
    {
     "data": {
      "text/plain": [
       "Index(['kim', 'lee', 'park'], dtype='object')"
      ]
     },
     "execution_count": 6,
     "metadata": {},
     "output_type": "execute_result"
    }
   ],
   "source": [
    "# index 값 확인\n",
    "# .index\n",
    "num_series3.index"
   ]
  },
  {
   "cell_type": "code",
   "execution_count": 7,
   "id": "0d73a45c",
   "metadata": {},
   "outputs": [
    {
     "data": {
      "text/plain": [
       "dtype('int64')"
      ]
     },
     "execution_count": 7,
     "metadata": {},
     "output_type": "execute_result"
    }
   ],
   "source": [
    "# 값의 데이터 타입 확인\n",
    "# .dtype\n",
    "num_series3.dtype"
   ]
  },
  {
   "cell_type": "code",
   "execution_count": 8,
   "id": "af456bcb",
   "metadata": {},
   "outputs": [
    {
     "data": {
      "text/plain": [
       "kim     10\n",
       "lee     20\n",
       "park    30\n",
       "Name: series 예제, dtype: int64"
      ]
     },
     "execution_count": 8,
     "metadata": {},
     "output_type": "execute_result"
    }
   ],
   "source": [
    "# 시리즈의 이름을 부여\n",
    "# .name = 이름명\n",
    "num_series3.name = 'series 예제'\n",
    "num_series3"
   ]
  },
  {
   "cell_type": "code",
   "execution_count": 9,
   "id": "3e04390d",
   "metadata": {},
   "outputs": [
    {
     "data": {
      "text/plain": [
       "성\n",
       "kim     10\n",
       "lee     20\n",
       "park    30\n",
       "Name: series 예제, dtype: int64"
      ]
     },
     "execution_count": 9,
     "metadata": {},
     "output_type": "execute_result"
    }
   ],
   "source": [
    "# 인덱스 이름 부여\n",
    "# .index.name = 인덱스 이름명\n",
    "num_series3.index.name = '성'\n",
    "num_series3"
   ]
  },
  {
   "cell_type": "code",
   "execution_count": 10,
   "id": "4ea65db8",
   "metadata": {},
   "outputs": [],
   "source": [
    "population = pd.Series([9602000, 3344000, 1488000,2419000], index = ['서울', '부산', '광주', '대구'])\n",
    "population.index.name = '도시'\n",
    "population.name = '2020 인구수'"
   ]
  },
  {
   "cell_type": "code",
   "execution_count": 11,
   "id": "ca5ed0bf",
   "metadata": {},
   "outputs": [
    {
     "data": {
      "text/plain": [
       "도시\n",
       "서울    9602000\n",
       "부산    3344000\n",
       "광주    1488000\n",
       "대구    2419000\n",
       "Name: 2020 인구수, dtype: int64"
      ]
     },
     "execution_count": 11,
     "metadata": {},
     "output_type": "execute_result"
    }
   ],
   "source": [
    "population"
   ]
  },
  {
   "cell_type": "code",
   "execution_count": 12,
   "id": "d5feae66",
   "metadata": {},
   "outputs": [
    {
     "data": {
      "text/plain": [
       "3344000"
      ]
     },
     "execution_count": 12,
     "metadata": {},
     "output_type": "execute_result"
    }
   ],
   "source": [
    "# 시리즈 값 수정\n",
    "# 인덱싱 간단하게\n",
    "population['부산']"
   ]
  },
  {
   "cell_type": "code",
   "execution_count": 13,
   "id": "689b42a9",
   "metadata": {},
   "outputs": [
    {
     "data": {
      "text/plain": [
       "도시\n",
       "서울    9602000\n",
       "부산    3500000\n",
       "광주    1488000\n",
       "대구    2419000\n",
       "Name: 2020 인구수, dtype: int64"
      ]
     },
     "execution_count": 13,
     "metadata": {},
     "output_type": "execute_result"
    }
   ],
   "source": [
    "# 인덱싱 = 수정 값\n",
    "population['부산'] = 3500000\n",
    "population"
   ]
  },
  {
   "cell_type": "code",
   "execution_count": 14,
   "id": "c742184b",
   "metadata": {},
   "outputs": [
    {
     "data": {
      "text/plain": [
       "도시\n",
       "서울    9602000\n",
       "부산    3500000\n",
       "광주    1488000\n",
       "대구    2419000\n",
       "대전    1500000\n",
       "Name: 2020 인구수, dtype: int64"
      ]
     },
     "execution_count": 14,
     "metadata": {},
     "output_type": "execute_result"
    }
   ],
   "source": [
    "# 값 추가\n",
    "population['대전'] = 1500000\n",
    "population"
   ]
  },
  {
   "cell_type": "code",
   "execution_count": 15,
   "id": "30867aaa",
   "metadata": {},
   "outputs": [
    {
     "data": {
      "text/plain": [
       "도시\n",
       "부산    3500000\n",
       "광주    1488000\n",
       "대구    2419000\n",
       "대전    1500000\n",
       "Name: 2020 인구수, dtype: int64"
      ]
     },
     "execution_count": 15,
     "metadata": {},
     "output_type": "execute_result"
    }
   ],
   "source": [
    "# 값 삭제\n",
    "# 1. .drop(index명) -- 값을 다시 대입 하지 않습니다\n",
    "# drop을 사용해서 해당 index 삭제하고 싶을 시 대입까지 진행\n",
    "population = population.drop('서울')\n",
    "\n",
    "population"
   ]
  },
  {
   "cell_type": "code",
   "execution_count": 16,
   "id": "05ad4843",
   "metadata": {},
   "outputs": [
    {
     "data": {
      "text/plain": [
       "도시\n",
       "부산    3500000\n",
       "광주    1488000\n",
       "대구    2419000\n",
       "Name: 2020 인구수, dtype: int64"
      ]
     },
     "execution_count": 16,
     "metadata": {},
     "output_type": "execute_result"
    }
   ],
   "source": [
    "# 2. del 키워드 사용 - 별도의 대임 없이 삭제가 가능\n",
    "del population['대전']\n",
    "\n",
    "population"
   ]
  },
  {
   "cell_type": "markdown",
   "id": "cb823e8e",
   "metadata": {},
   "source": [
    "### 데이터 프레임"
   ]
  },
  {
   "cell_type": "code",
   "execution_count": 17,
   "id": "b476d1b3",
   "metadata": {},
   "outputs": [
    {
     "data": {
      "text/html": [
       "<div>\n",
       "<style scoped>\n",
       "    .dataframe tbody tr th:only-of-type {\n",
       "        vertical-align: middle;\n",
       "    }\n",
       "\n",
       "    .dataframe tbody tr th {\n",
       "        vertical-align: top;\n",
       "    }\n",
       "\n",
       "    .dataframe thead th {\n",
       "        text-align: right;\n",
       "    }\n",
       "</style>\n",
       "<table border=\"1\" class=\"dataframe\">\n",
       "  <thead>\n",
       "    <tr style=\"text-align: right;\">\n",
       "      <th></th>\n",
       "      <th>0</th>\n",
       "    </tr>\n",
       "  </thead>\n",
       "  <tbody>\n",
       "    <tr>\n",
       "      <th>0</th>\n",
       "      <td>1</td>\n",
       "    </tr>\n",
       "    <tr>\n",
       "      <th>1</th>\n",
       "      <td>2</td>\n",
       "    </tr>\n",
       "    <tr>\n",
       "      <th>2</th>\n",
       "      <td>3</td>\n",
       "    </tr>\n",
       "  </tbody>\n",
       "</table>\n",
       "</div>"
      ],
      "text/plain": [
       "   0\n",
       "0  1\n",
       "1  2\n",
       "2  3"
      ]
     },
     "execution_count": 17,
     "metadata": {},
     "output_type": "execute_result"
    }
   ],
   "source": [
    "# 1개의 시리즈가진 데이터 프레임\n",
    "# pd.DataFrame()\n",
    "\n",
    "num_df = pd.DataFrame([1,2,3])\n",
    "num_df"
   ]
  },
  {
   "cell_type": "code",
   "execution_count": 18,
   "id": "19d99d7e",
   "metadata": {},
   "outputs": [
    {
     "data": {
      "text/html": [
       "<div>\n",
       "<style scoped>\n",
       "    .dataframe tbody tr th:only-of-type {\n",
       "        vertical-align: middle;\n",
       "    }\n",
       "\n",
       "    .dataframe tbody tr th {\n",
       "        vertical-align: top;\n",
       "    }\n",
       "\n",
       "    .dataframe thead th {\n",
       "        text-align: right;\n",
       "    }\n",
       "</style>\n",
       "<table border=\"1\" class=\"dataframe\">\n",
       "  <thead>\n",
       "    <tr style=\"text-align: right;\">\n",
       "      <th></th>\n",
       "      <th>0</th>\n",
       "      <th>1</th>\n",
       "    </tr>\n",
       "  </thead>\n",
       "  <tbody>\n",
       "    <tr>\n",
       "      <th>0</th>\n",
       "      <td>iot</td>\n",
       "      <td>1</td>\n",
       "    </tr>\n",
       "    <tr>\n",
       "      <th>1</th>\n",
       "      <td>big data</td>\n",
       "      <td>2</td>\n",
       "    </tr>\n",
       "    <tr>\n",
       "      <th>2</th>\n",
       "      <td>ai</td>\n",
       "      <td>3</td>\n",
       "    </tr>\n",
       "  </tbody>\n",
       "</table>\n",
       "</div>"
      ],
      "text/plain": [
       "          0  1\n",
       "0       iot  1\n",
       "1  big data  2\n",
       "2        ai  3"
      ]
     },
     "execution_count": 18,
     "metadata": {},
     "output_type": "execute_result"
    }
   ],
   "source": [
    "# 2중 리스트로 값을 여러개 넣는 것도 가능!\n",
    "num2_df = pd.DataFrame([['iot', 1], ['big data', 2], ['ai', 3]])\n",
    "num2_df"
   ]
  },
  {
   "cell_type": "code",
   "execution_count": 19,
   "id": "4caecdfc",
   "metadata": {
    "scrolled": true
   },
   "outputs": [
    {
     "data": {
      "text/html": [
       "<div>\n",
       "<style scoped>\n",
       "    .dataframe tbody tr th:only-of-type {\n",
       "        vertical-align: middle;\n",
       "    }\n",
       "\n",
       "    .dataframe tbody tr th {\n",
       "        vertical-align: top;\n",
       "    }\n",
       "\n",
       "    .dataframe thead th {\n",
       "        text-align: right;\n",
       "    }\n",
       "</style>\n",
       "<table border=\"1\" class=\"dataframe\">\n",
       "  <thead>\n",
       "    <tr style=\"text-align: right;\">\n",
       "      <th></th>\n",
       "      <th>class</th>\n",
       "      <th>join</th>\n",
       "    </tr>\n",
       "  </thead>\n",
       "  <tbody>\n",
       "    <tr>\n",
       "      <th>0</th>\n",
       "      <td>iot</td>\n",
       "      <td>1</td>\n",
       "    </tr>\n",
       "    <tr>\n",
       "      <th>1</th>\n",
       "      <td>big data</td>\n",
       "      <td>2</td>\n",
       "    </tr>\n",
       "    <tr>\n",
       "      <th>2</th>\n",
       "      <td>ai</td>\n",
       "      <td>3</td>\n",
       "    </tr>\n",
       "  </tbody>\n",
       "</table>\n",
       "</div>"
      ],
      "text/plain": [
       "      class  join\n",
       "0       iot     1\n",
       "1  big data     2\n",
       "2        ai     3"
      ]
     },
     "execution_count": 19,
     "metadata": {},
     "output_type": "execute_result"
    }
   ],
   "source": [
    "# 컬럼 값 지정하기 2\n",
    "num2_df = pd.DataFrame({'class' : ['iot', 'big data', 'ai'], 'join' : [1,2,3]})\n",
    "num2_df"
   ]
  },
  {
   "cell_type": "code",
   "execution_count": 20,
   "id": "d24ee78e",
   "metadata": {},
   "outputs": [
    {
     "data": {
      "text/html": [
       "<div>\n",
       "<style scoped>\n",
       "    .dataframe tbody tr th:only-of-type {\n",
       "        vertical-align: middle;\n",
       "    }\n",
       "\n",
       "    .dataframe tbody tr th {\n",
       "        vertical-align: top;\n",
       "    }\n",
       "\n",
       "    .dataframe thead th {\n",
       "        text-align: right;\n",
       "    }\n",
       "</style>\n",
       "<table border=\"1\" class=\"dataframe\">\n",
       "  <thead>\n",
       "    <tr style=\"text-align: right;\">\n",
       "      <th></th>\n",
       "      <th>class</th>\n",
       "      <th>join</th>\n",
       "    </tr>\n",
       "  </thead>\n",
       "  <tbody>\n",
       "    <tr>\n",
       "      <th>A</th>\n",
       "      <td>iot</td>\n",
       "      <td>1</td>\n",
       "    </tr>\n",
       "    <tr>\n",
       "      <th>B</th>\n",
       "      <td>big data</td>\n",
       "      <td>2</td>\n",
       "    </tr>\n",
       "    <tr>\n",
       "      <th>C</th>\n",
       "      <td>ai</td>\n",
       "      <td>3</td>\n",
       "    </tr>\n",
       "  </tbody>\n",
       "</table>\n",
       "</div>"
      ],
      "text/plain": [
       "      class  join\n",
       "A       iot     1\n",
       "B  big data     2\n",
       "C        ai     3"
      ]
     },
     "execution_count": 20,
     "metadata": {},
     "output_type": "execute_result"
    }
   ],
   "source": [
    "# 인덱스 값 지정하기\n",
    "num2_df = pd.DataFrame({'class' : ['iot', 'big data', 'ai'], 'join' : [1,2,3]}, index = ['A', 'B', 'C'])\n",
    "num2_df"
   ]
  },
  {
   "cell_type": "code",
   "execution_count": 12,
   "id": "bb18c62a",
   "metadata": {},
   "outputs": [
    {
     "data": {
      "text/html": [
       "<div>\n",
       "<style scoped>\n",
       "    .dataframe tbody tr th:only-of-type {\n",
       "        vertical-align: middle;\n",
       "    }\n",
       "\n",
       "    .dataframe tbody tr th {\n",
       "        vertical-align: top;\n",
       "    }\n",
       "\n",
       "    .dataframe thead th {\n",
       "        text-align: right;\n",
       "    }\n",
       "</style>\n",
       "<table border=\"1\" class=\"dataframe\">\n",
       "  <thead>\n",
       "    <tr style=\"text-align: right;\">\n",
       "      <th></th>\n",
       "      <th>키</th>\n",
       "      <th>몸무게</th>\n",
       "      <th>나이</th>\n",
       "    </tr>\n",
       "  </thead>\n",
       "  <tbody>\n",
       "    <tr>\n",
       "      <th>son</th>\n",
       "      <td>175.3</td>\n",
       "      <td>66.2</td>\n",
       "      <td>27.0</td>\n",
       "    </tr>\n",
       "    <tr>\n",
       "      <th>kim</th>\n",
       "      <td>180.2</td>\n",
       "      <td>78.9</td>\n",
       "      <td>29.0</td>\n",
       "    </tr>\n",
       "    <tr>\n",
       "      <th>park</th>\n",
       "      <td>178.6</td>\n",
       "      <td>55.1</td>\n",
       "      <td>35.0</td>\n",
       "    </tr>\n",
       "  </tbody>\n",
       "</table>\n",
       "</div>"
      ],
      "text/plain": [
       "          키   몸무게    나이\n",
       "son   175.3  66.2  27.0\n",
       "kim   180.2  78.9  29.0\n",
       "park  178.6  55.1  35.0"
      ]
     },
     "execution_count": 12,
     "metadata": {},
     "output_type": "execute_result"
    }
   ],
   "source": [
    "info_df = pd.DataFrame({'키' : [175.3, 180.2, 178.6], '몸무게' : [66.2, 78.9, 55.1], '나이' : [27.0, 29.0, 35.0]}, index = ['son', 'kim', 'park'])\n",
    "info_df"
   ]
  },
  {
   "cell_type": "code",
   "execution_count": 23,
   "id": "71b94bec",
   "metadata": {},
   "outputs": [
    {
     "data": {
      "text/html": [
       "<div>\n",
       "<style scoped>\n",
       "    .dataframe tbody tr th:only-of-type {\n",
       "        vertical-align: middle;\n",
       "    }\n",
       "\n",
       "    .dataframe tbody tr th {\n",
       "        vertical-align: top;\n",
       "    }\n",
       "\n",
       "    .dataframe thead th {\n",
       "        text-align: right;\n",
       "    }\n",
       "</style>\n",
       "<table border=\"1\" class=\"dataframe\">\n",
       "  <thead>\n",
       "    <tr style=\"text-align: right;\">\n",
       "      <th></th>\n",
       "      <th>son</th>\n",
       "      <th>kim</th>\n",
       "      <th>park</th>\n",
       "    </tr>\n",
       "  </thead>\n",
       "  <tbody>\n",
       "    <tr>\n",
       "      <th>키</th>\n",
       "      <td>175.3</td>\n",
       "      <td>180.2</td>\n",
       "      <td>178.6</td>\n",
       "    </tr>\n",
       "    <tr>\n",
       "      <th>몸무게</th>\n",
       "      <td>66.2</td>\n",
       "      <td>78.9</td>\n",
       "      <td>55.1</td>\n",
       "    </tr>\n",
       "    <tr>\n",
       "      <th>나이</th>\n",
       "      <td>27.0</td>\n",
       "      <td>29.0</td>\n",
       "      <td>35.0</td>\n",
       "    </tr>\n",
       "  </tbody>\n",
       "</table>\n",
       "</div>"
      ],
      "text/plain": [
       "       son    kim   park\n",
       "키    175.3  180.2  178.6\n",
       "몸무게   66.2   78.9   55.1\n",
       "나이    27.0   29.0   35.0"
      ]
     },
     "execution_count": 23,
     "metadata": {},
     "output_type": "execute_result"
    }
   ],
   "source": [
    "# 속성 확인\n",
    "# .T --> 행 렬 전환\n",
    "info_df.T"
   ]
  },
  {
   "cell_type": "code",
   "execution_count": 26,
   "id": "87f665fa",
   "metadata": {},
   "outputs": [
    {
     "data": {
      "text/html": [
       "<div>\n",
       "<style scoped>\n",
       "    .dataframe tbody tr th:only-of-type {\n",
       "        vertical-align: middle;\n",
       "    }\n",
       "\n",
       "    .dataframe tbody tr th {\n",
       "        vertical-align: top;\n",
       "    }\n",
       "\n",
       "    .dataframe thead th {\n",
       "        text-align: right;\n",
       "    }\n",
       "</style>\n",
       "<table border=\"1\" class=\"dataframe\">\n",
       "  <thead>\n",
       "    <tr style=\"text-align: right;\">\n",
       "      <th></th>\n",
       "      <th>키</th>\n",
       "      <th>몸무게</th>\n",
       "      <th>나이</th>\n",
       "    </tr>\n",
       "  </thead>\n",
       "  <tbody>\n",
       "    <tr>\n",
       "      <th>son</th>\n",
       "      <td>175.3</td>\n",
       "      <td>66.2</td>\n",
       "      <td>27.0</td>\n",
       "    </tr>\n",
       "    <tr>\n",
       "      <th>kim</th>\n",
       "      <td>180.2</td>\n",
       "      <td>78.9</td>\n",
       "      <td>29.0</td>\n",
       "    </tr>\n",
       "    <tr>\n",
       "      <th>park</th>\n",
       "      <td>178.6</td>\n",
       "      <td>55.1</td>\n",
       "      <td>35.0</td>\n",
       "    </tr>\n",
       "  </tbody>\n",
       "</table>\n",
       "</div>"
      ],
      "text/plain": [
       "          키   몸무게    나이\n",
       "son   175.3  66.2  27.0\n",
       "kim   180.2  78.9  29.0\n",
       "park  178.6  55.1  35.0"
      ]
     },
     "metadata": {},
     "output_type": "display_data"
    },
    {
     "data": {
      "text/plain": [
       "array([[175.3,  66.2,  27. ],\n",
       "       [180.2,  78.9,  29. ],\n",
       "       [178.6,  55.1,  35. ]])"
      ]
     },
     "execution_count": 26,
     "metadata": {},
     "output_type": "execute_result"
    }
   ],
   "source": [
    "# .values - df value\n",
    "display(info_df)\n",
    "info_df.values"
   ]
  },
  {
   "cell_type": "code",
   "execution_count": 27,
   "id": "a6c042b9",
   "metadata": {},
   "outputs": [
    {
     "data": {
      "text/plain": [
       "Index(['son', 'kim', 'park'], dtype='object')"
      ]
     },
     "execution_count": 27,
     "metadata": {},
     "output_type": "execute_result"
    }
   ],
   "source": [
    "# .index - df index\n",
    "info_df.index"
   ]
  },
  {
   "cell_type": "code",
   "execution_count": 28,
   "id": "3f8f51fe",
   "metadata": {},
   "outputs": [
    {
     "data": {
      "text/plain": [
       "Index(['키', '몸무게', '나이'], dtype='object')"
      ]
     },
     "execution_count": 28,
     "metadata": {},
     "output_type": "execute_result"
    }
   ],
   "source": [
    "# .columns - df의 column\n",
    "info_df.columns"
   ]
  },
  {
   "cell_type": "code",
   "execution_count": 3,
   "id": "6be78f98",
   "metadata": {},
   "outputs": [],
   "source": [
    "population = pd.Series([9602000,3344000,1488000,2419000], index = ['서울','부산','광주','대구'])\n",
    "population.index.name = '도시'\n",
    "population.name = '2020 인구수'"
   ]
  },
  {
   "cell_type": "code",
   "execution_count": 4,
   "id": "5343704d",
   "metadata": {},
   "outputs": [
    {
     "data": {
      "text/plain": [
       "도시\n",
       "서울    9602000\n",
       "부산    3344000\n",
       "광주    1488000\n",
       "대구    2419000\n",
       "Name: 2020 인구수, dtype: int64"
      ]
     },
     "execution_count": 4,
     "metadata": {},
     "output_type": "execute_result"
    }
   ],
   "source": [
    "population"
   ]
  },
  {
   "cell_type": "code",
   "execution_count": 6,
   "id": "3ecce555",
   "metadata": {},
   "outputs": [
    {
     "data": {
      "text/plain": [
       "1488000"
      ]
     },
     "execution_count": 6,
     "metadata": {},
     "output_type": "execute_result"
    }
   ],
   "source": [
    "# 인덱싱 방법 -- 1 인덱스 번호로 접근\n",
    "population[0]\n",
    "population[2]"
   ]
  },
  {
   "cell_type": "code",
   "execution_count": 7,
   "id": "4b590cbf",
   "metadata": {},
   "outputs": [
    {
     "data": {
      "text/plain": [
       "3344000"
      ]
     },
     "execution_count": 7,
     "metadata": {},
     "output_type": "execute_result"
    }
   ],
   "source": [
    "# 인덱싱 방법 -2. 인덱스 이름으로 접근\n",
    "population['부산']"
   ]
  },
  {
   "cell_type": "code",
   "execution_count": 9,
   "id": "4daab12f",
   "metadata": {},
   "outputs": [],
   "source": [
    "# 여러개를 인덱싱\n",
    "# 인덱스 번호로 접근\n"
   ]
  },
  {
   "cell_type": "markdown",
   "id": "033ebbd0",
   "metadata": {},
   "source": [
    "## loc, iloc 인덱서"
   ]
  },
  {
   "cell_type": "markdown",
   "id": "21e22ff0",
   "metadata": {},
   "source": [
    "- 데이터 프레임의 행, 열에 접근을 더 편리하게 하기 위해 등장\n",
    "- loc, iloc\n",
    "- loc : 컬럼이름(라벨)명을 통해 데이터 접근하는 방법\n",
    "- iloc : 컬럼의 인덱스접근을 통해 데이터 접근\n",
    "\n",
    "- .loc(or iloc)[행,열]\n",
    "    - 결국 인덱싱 슬라이싱의 규칙을 그대로 적용"
   ]
  },
  {
   "cell_type": "code",
   "execution_count": null,
   "id": "7033d1ee",
   "metadata": {},
   "outputs": [],
   "source": [
    "# loc[행, 열] 인덱스 값으로 접근"
   ]
  },
  {
   "cell_type": "code",
   "execution_count": 14,
   "id": "9f068d59",
   "metadata": {},
   "outputs": [
    {
     "data": {
      "text/plain": [
       "27.0"
      ]
     },
     "execution_count": 14,
     "metadata": {},
     "output_type": "execute_result"
    }
   ],
   "source": [
    "info_df.loc['son', '나이']"
   ]
  },
  {
   "cell_type": "code",
   "execution_count": 15,
   "id": "12d4b63a",
   "metadata": {},
   "outputs": [
    {
     "data": {
      "text/plain": [
       "키     175.3\n",
       "나이     27.0\n",
       "Name: son, dtype: float64"
      ]
     },
     "execution_count": 15,
     "metadata": {},
     "output_type": "execute_result"
    }
   ],
   "source": [
    "# 여러값 접근\n",
    "info_df.loc['son', ['키', '나이']]"
   ]
  },
  {
   "cell_type": "code",
   "execution_count": 16,
   "id": "9ad0f432",
   "metadata": {},
   "outputs": [
    {
     "data": {
      "text/plain": [
       "키     175.3\n",
       "나이     27.0\n",
       "Name: son, dtype: float64"
      ]
     },
     "execution_count": 16,
     "metadata": {},
     "output_type": "execute_result"
    }
   ],
   "source": [
    "# 여러값 접근2\n",
    "info_df.loc['son', :: 2]"
   ]
  },
  {
   "cell_type": "code",
   "execution_count": 17,
   "id": "6ce97c26",
   "metadata": {},
   "outputs": [
    {
     "data": {
      "text/plain": [
       "키      175.3\n",
       "몸무게     66.2\n",
       "나이      27.0\n",
       "Name: son, dtype: float64"
      ]
     },
     "execution_count": 17,
     "metadata": {},
     "output_type": "execute_result"
    }
   ],
   "source": [
    "# iloc - 인덱스 번호로 접근\n",
    "info_df.iloc[0]  # == info_df.loc['son']"
   ]
  },
  {
   "cell_type": "code",
   "execution_count": 18,
   "id": "ab63e342",
   "metadata": {},
   "outputs": [
    {
     "data": {
      "text/plain": [
       "키     175.3\n",
       "나이     27.0\n",
       "Name: son, dtype: float64"
      ]
     },
     "execution_count": 18,
     "metadata": {},
     "output_type": "execute_result"
    }
   ],
   "source": [
    "# info_df.loc['son', '나이']\n",
    "# info_df.loc['son',['키', '나이']]\n",
    "info_df.iloc[0, [0, 2]]"
   ]
  },
  {
   "cell_type": "code",
   "execution_count": 19,
   "id": "0371d459",
   "metadata": {},
   "outputs": [
    {
     "data": {
      "text/plain": [
       "키     175.3\n",
       "나이     27.0\n",
       "Name: son, dtype: float64"
      ]
     },
     "execution_count": 19,
     "metadata": {},
     "output_type": "execute_result"
    }
   ],
   "source": [
    "# 여러값 접근2\n",
    "# info_df.loc['son', :: 2]\n",
    "info_df.iloc[0, :: 2]"
   ]
  },
  {
   "cell_type": "markdown",
   "id": "b350ffde",
   "metadata": {},
   "source": [
    "# 불리언 인덱싱"
   ]
  },
  {
   "cell_type": "code",
   "execution_count": 20,
   "id": "6c61a563",
   "metadata": {},
   "outputs": [
    {
     "data": {
      "text/html": [
       "<div>\n",
       "<style scoped>\n",
       "    .dataframe tbody tr th:only-of-type {\n",
       "        vertical-align: middle;\n",
       "    }\n",
       "\n",
       "    .dataframe tbody tr th {\n",
       "        vertical-align: top;\n",
       "    }\n",
       "\n",
       "    .dataframe thead th {\n",
       "        text-align: right;\n",
       "    }\n",
       "</style>\n",
       "<table border=\"1\" class=\"dataframe\">\n",
       "  <thead>\n",
       "    <tr style=\"text-align: right;\">\n",
       "      <th></th>\n",
       "      <th>키</th>\n",
       "      <th>몸무게</th>\n",
       "      <th>나이</th>\n",
       "    </tr>\n",
       "  </thead>\n",
       "  <tbody>\n",
       "    <tr>\n",
       "      <th>son</th>\n",
       "      <td>175.3</td>\n",
       "      <td>66.2</td>\n",
       "      <td>27.0</td>\n",
       "    </tr>\n",
       "    <tr>\n",
       "      <th>kim</th>\n",
       "      <td>180.2</td>\n",
       "      <td>78.9</td>\n",
       "      <td>29.0</td>\n",
       "    </tr>\n",
       "    <tr>\n",
       "      <th>park</th>\n",
       "      <td>178.6</td>\n",
       "      <td>55.1</td>\n",
       "      <td>35.0</td>\n",
       "    </tr>\n",
       "  </tbody>\n",
       "</table>\n",
       "</div>"
      ],
      "text/plain": [
       "          키   몸무게    나이\n",
       "son   175.3  66.2  27.0\n",
       "kim   180.2  78.9  29.0\n",
       "park  178.6  55.1  35.0"
      ]
     },
     "execution_count": 20,
     "metadata": {},
     "output_type": "execute_result"
    }
   ],
   "source": [
    "info_df"
   ]
  },
  {
   "cell_type": "code",
   "execution_count": 21,
   "id": "054d932a",
   "metadata": {},
   "outputs": [
    {
     "data": {
      "text/html": [
       "<div>\n",
       "<style scoped>\n",
       "    .dataframe tbody tr th:only-of-type {\n",
       "        vertical-align: middle;\n",
       "    }\n",
       "\n",
       "    .dataframe tbody tr th {\n",
       "        vertical-align: top;\n",
       "    }\n",
       "\n",
       "    .dataframe thead th {\n",
       "        text-align: right;\n",
       "    }\n",
       "</style>\n",
       "<table border=\"1\" class=\"dataframe\">\n",
       "  <thead>\n",
       "    <tr style=\"text-align: right;\">\n",
       "      <th></th>\n",
       "      <th>키</th>\n",
       "      <th>몸무게</th>\n",
       "      <th>나이</th>\n",
       "    </tr>\n",
       "  </thead>\n",
       "  <tbody>\n",
       "    <tr>\n",
       "      <th>kim</th>\n",
       "      <td>180.2</td>\n",
       "      <td>78.9</td>\n",
       "      <td>29.0</td>\n",
       "    </tr>\n",
       "  </tbody>\n",
       "</table>\n",
       "</div>"
      ],
      "text/plain": [
       "         키   몸무게    나이\n",
       "kim  180.2  78.9  29.0"
      ]
     },
     "execution_count": 21,
     "metadata": {},
     "output_type": "execute_result"
    }
   ],
   "source": [
    "info_df[info_df['키'] > 180]"
   ]
  },
  {
   "cell_type": "code",
   "execution_count": 23,
   "id": "cd8dca49",
   "metadata": {},
   "outputs": [
    {
     "data": {
      "text/html": [
       "<div>\n",
       "<style scoped>\n",
       "    .dataframe tbody tr th:only-of-type {\n",
       "        vertical-align: middle;\n",
       "    }\n",
       "\n",
       "    .dataframe tbody tr th {\n",
       "        vertical-align: top;\n",
       "    }\n",
       "\n",
       "    .dataframe thead th {\n",
       "        text-align: right;\n",
       "    }\n",
       "</style>\n",
       "<table border=\"1\" class=\"dataframe\">\n",
       "  <thead>\n",
       "    <tr style=\"text-align: right;\">\n",
       "      <th></th>\n",
       "      <th>키</th>\n",
       "      <th>몸무게</th>\n",
       "      <th>나이</th>\n",
       "    </tr>\n",
       "  </thead>\n",
       "  <tbody>\n",
       "    <tr>\n",
       "      <th>kim</th>\n",
       "      <td>180.2</td>\n",
       "      <td>78.9</td>\n",
       "      <td>29.0</td>\n",
       "    </tr>\n",
       "  </tbody>\n",
       "</table>\n",
       "</div>"
      ],
      "text/plain": [
       "         키   몸무게    나이\n",
       "kim  180.2  78.9  29.0"
      ]
     },
     "execution_count": 23,
     "metadata": {},
     "output_type": "execute_result"
    }
   ],
   "source": [
    "# .query() -- 불리언 인덱싱을 도와주는 함수\n",
    "# 매개변수에 조건을 문자열로 작성\n",
    "info_df.query('키 > 180')"
   ]
  },
  {
   "cell_type": "code",
   "execution_count": 24,
   "id": "994944f6",
   "metadata": {},
   "outputs": [
    {
     "data": {
      "text/html": [
       "<div>\n",
       "<style scoped>\n",
       "    .dataframe tbody tr th:only-of-type {\n",
       "        vertical-align: middle;\n",
       "    }\n",
       "\n",
       "    .dataframe tbody tr th {\n",
       "        vertical-align: top;\n",
       "    }\n",
       "\n",
       "    .dataframe thead th {\n",
       "        text-align: right;\n",
       "    }\n",
       "</style>\n",
       "<table border=\"1\" class=\"dataframe\">\n",
       "  <thead>\n",
       "    <tr style=\"text-align: right;\">\n",
       "      <th></th>\n",
       "      <th>키</th>\n",
       "      <th>몸무게</th>\n",
       "      <th>나이</th>\n",
       "    </tr>\n",
       "  </thead>\n",
       "  <tbody>\n",
       "    <tr>\n",
       "      <th>kim</th>\n",
       "      <td>180.2</td>\n",
       "      <td>78.9</td>\n",
       "      <td>29.0</td>\n",
       "    </tr>\n",
       "  </tbody>\n",
       "</table>\n",
       "</div>"
      ],
      "text/plain": [
       "         키   몸무게    나이\n",
       "kim  180.2  78.9  29.0"
      ]
     },
     "execution_count": 24,
     "metadata": {},
     "output_type": "execute_result"
    }
   ],
   "source": [
    "# loc 인덱서 사용해서 불리언 인덱싱\n",
    "info_df.loc[info_df['키'] > 180]"
   ]
  },
  {
   "cell_type": "code",
   "execution_count": null,
   "id": "83d1e5cf",
   "metadata": {},
   "outputs": [],
   "source": []
  },
  {
   "cell_type": "code",
   "execution_count": null,
   "id": "cd627965",
   "metadata": {},
   "outputs": [],
   "source": []
  },
  {
   "cell_type": "code",
   "execution_count": null,
   "id": "a0db0f2a",
   "metadata": {},
   "outputs": [],
   "source": []
  },
  {
   "cell_type": "code",
   "execution_count": null,
   "id": "a7896e63",
   "metadata": {},
   "outputs": [],
   "source": []
  },
  {
   "cell_type": "code",
   "execution_count": null,
   "id": "dcbd4e0d",
   "metadata": {},
   "outputs": [],
   "source": []
  },
  {
   "cell_type": "code",
   "execution_count": null,
   "id": "cf937f1f",
   "metadata": {},
   "outputs": [],
   "source": []
  },
  {
   "cell_type": "code",
   "execution_count": null,
   "id": "00e6ee48",
   "metadata": {},
   "outputs": [],
   "source": []
  },
  {
   "cell_type": "code",
   "execution_count": null,
   "id": "5be45d62",
   "metadata": {},
   "outputs": [],
   "source": []
  },
  {
   "cell_type": "code",
   "execution_count": null,
   "id": "4382d81a",
   "metadata": {},
   "outputs": [],
   "source": []
  },
  {
   "cell_type": "code",
   "execution_count": null,
   "id": "7610f86e",
   "metadata": {},
   "outputs": [],
   "source": []
  }
 ],
 "metadata": {
  "kernelspec": {
   "display_name": "Python 3 (ipykernel)",
   "language": "python",
   "name": "python3"
  },
  "language_info": {
   "codemirror_mode": {
    "name": "ipython",
    "version": 3
   },
   "file_extension": ".py",
   "mimetype": "text/x-python",
   "name": "python",
   "nbconvert_exporter": "python",
   "pygments_lexer": "ipython3",
   "version": "3.11.5"
  }
 },
 "nbformat": 4,
 "nbformat_minor": 5
}
